{
  "nbformat": 4,
  "nbformat_minor": 0,
  "metadata": {
    "colab": {
      "name": "AWS_project_model_training.ipynb",
      "provenance": [],
      "toc_visible": true
    },
    "kernelspec": {
      "name": "python3",
      "display_name": "Python 3"
    }
  },
  "cells": [
    {
      "cell_type": "markdown",
      "metadata": {
        "id": "gNrjjzR7-3FK",
        "colab_type": "text"
      },
      "source": [
        "Imports"
      ]
    },
    {
      "cell_type": "code",
      "metadata": {
        "id": "z1UHyFKt-mLZ",
        "colab_type": "code",
        "colab": {}
      },
      "source": [
        "import tensorflow as tf\n",
        "import os\n",
        "from google.colab import drive\n",
        "\n",
        "import zipfile\n",
        "\n",
        "import re\n",
        "import numpy as np\n",
        "import pandas as pd\n",
        "\n",
        "from keras import backend as K\n",
        "\n",
        "import math\n",
        "import matplotlib.pyplot as plt\n",
        "\n",
        "import pandas as pd\n",
        "\n",
        "google_drive_mount_path = '/content/gdrive'\n",
        "google_drive_shared_path = os.path.join(google_drive_mount_path, 'My Drive' , 'Thesis/')\n",
        "\n",
        "from google.colab import drive\n",
        "drive.mount(google_drive_mount_path)\n",
        "\n",
        "import matplotlib.image as mpimg\n",
        "from PIL import Image, ImageDraw\n",
        "from tensorflow.keras.preprocessing import image\n",
        "from tqdm import tqdm_notebook as tqdm"
      ],
      "execution_count": null,
      "outputs": []
    },
    {
      "cell_type": "markdown",
      "metadata": {
        "id": "qjJmnKSN_Ew8",
        "colab_type": "text"
      },
      "source": [
        "#Data pre-processing"
      ]
    },
    {
      "cell_type": "code",
      "metadata": {
        "id": "OdaOEnT_-2ol",
        "colab_type": "code",
        "colab": {}
      },
      "source": [
        "X_train = np.load(os.path.join('/content/gdrive', 'My Drive' , 'Thesis' , 'Data' , 'kaggle data np','X_train.npy'))\n",
        "X_val = np.load(os.path.join('/content/gdrive', 'My Drive' , 'Thesis' , 'Data' , 'kaggle data np','X_val.npy'))\n",
        "\n",
        "y_train = np.load(os.path.join('/content/gdrive', 'My Drive' , 'Thesis' , 'Data' , 'kaggle data np','Y_train.npy'))\n",
        "y_val = np.load(os.path.join('/content/gdrive', 'My Drive' , 'Thesis' , 'Data' , 'kaggle data np','Y_test.npy'))"
      ],
      "execution_count": null,
      "outputs": []
    },
    {
      "cell_type": "markdown",
      "metadata": {
        "id": "FCFZaA_b_QfT",
        "colab_type": "text"
      },
      "source": [
        "##Imbalanced classes"
      ]
    },
    {
      "cell_type": "code",
      "metadata": {
        "id": "iQLSaZ3EaET2",
        "colab_type": "code",
        "colab": {
          "base_uri": "https://localhost:8080/",
          "height": 34
        },
        "outputId": "1c89f834-0fbf-493d-fe63-4df91a1f8f71"
      },
      "source": [
        "from collections import Counter\n",
        "Counter(y_train) , Counter(y_val)"
      ],
      "execution_count": null,
      "outputs": [
        {
          "output_type": "execute_result",
          "data": {
            "text/plain": [
              "(Counter({0: 26031, 1: 469}), Counter({0: 6511, 1: 115}))"
            ]
          },
          "metadata": {
            "tags": []
          },
          "execution_count": 3
        }
      ]
    },
    {
      "cell_type": "code",
      "metadata": {
        "id": "MdzsQwLN_c59",
        "colab_type": "code",
        "colab": {}
      },
      "source": [
        "Y_train = tf.keras.utils.to_categorical(y_train,2)\n",
        "Y_val = tf.keras.utils.to_categorical(y_val,2)"
      ],
      "execution_count": null,
      "outputs": []
    },
    {
      "cell_type": "markdown",
      "metadata": {
        "id": "o7vZlPHi_ivs",
        "colab_type": "text"
      },
      "source": [
        "##Class weights"
      ]
    },
    {
      "cell_type": "code",
      "metadata": {
        "id": "A4ZxwNCeaA0g",
        "colab_type": "code",
        "colab": {
          "base_uri": "https://localhost:8080/",
          "height": 34
        },
        "outputId": "bf137671-487e-422a-af55-37258819e03a"
      },
      "source": [
        "SAMPLES_PER_CLASSES_TRAINING = dict(Counter(y_train))\n",
        "\n",
        "weight_for_0 = (1 / SAMPLES_PER_CLASSES_TRAINING[0])*(sum(SAMPLES_PER_CLASSES_TRAINING.values()))/2.0 \n",
        "weight_for_1 = (1 / SAMPLES_PER_CLASSES_TRAINING[1])*(sum(SAMPLES_PER_CLASSES_TRAINING.values()))/2.0\n",
        "\n",
        "class_weight = {0: weight_for_0, 1: weight_for_1}\n",
        "class_weight"
      ],
      "execution_count": null,
      "outputs": [
        {
          "output_type": "execute_result",
          "data": {
            "text/plain": [
              "{0: 0.5090084898774537, 1: 28.251599147121535}"
            ]
          },
          "metadata": {
            "tags": []
          },
          "execution_count": 5
        }
      ]
    },
    {
      "cell_type": "markdown",
      "metadata": {
        "id": "uFm8FKtI_mOT",
        "colab_type": "text"
      },
      "source": [
        "##Augmentation"
      ]
    },
    {
      "cell_type": "code",
      "metadata": {
        "id": "KOZ-5iEq_rh-",
        "colab_type": "code",
        "colab": {}
      },
      "source": [
        "def data_augment(image, label):\n",
        "\n",
        "\n",
        "    image = tf.image.random_crop(image,size=[224,224,3])\n",
        "    image = tf.image.random_flip_left_right(image)\n",
        "    image = tf.image.random_flip_up_down(image)\n",
        "    image = tf.image.random_saturation(image, lower = 0, upper = 3)\n",
        "\n",
        "    return image, label   "
      ],
      "execution_count": null,
      "outputs": []
    },
    {
      "cell_type": "code",
      "metadata": {
        "id": "bPm1bFVV_szl",
        "colab_type": "code",
        "colab": {}
      },
      "source": [
        "train_dataset = tf.data.Dataset.from_tensor_slices((X_train, y_train))\n",
        "val_dataset = tf.data.Dataset.from_tensor_slices((X_val, y_val))\n",
        "\n",
        "BATCH_SIZE = 64\n",
        "SHUFFLE_BUFFER_SIZE = 100\n",
        "\n",
        "train_dataset = train_dataset.map(data_augment).shuffle(SHUFFLE_BUFFER_SIZE).batch(BATCH_SIZE)\n",
        "val_dataset = val_dataset.shuffle(SHUFFLE_BUFFER_SIZE).batch(BATCH_SIZE)"
      ],
      "execution_count": null,
      "outputs": []
    },
    {
      "cell_type": "markdown",
      "metadata": {
        "id": "xcIgpw7Y_1K7",
        "colab_type": "text"
      },
      "source": [
        "##Resampling"
      ]
    },
    {
      "cell_type": "code",
      "metadata": {
        "id": "trI6pKxv_2uk",
        "colab_type": "code",
        "colab": {}
      },
      "source": [
        "negative_ds = (\n",
        "  train_dataset\n",
        "    .unbatch()\n",
        "    .filter(lambda features, label: label==0)\n",
        "    .repeat())\n",
        "positive_ds = (\n",
        "  train_dataset\n",
        "    .unbatch()\n",
        "    .filter(lambda features, label: label==1)\n",
        "    .repeat())\n",
        "\n",
        "balanced_ds = tf.data.experimental.sample_from_datasets(\n",
        "    [negative_ds, positive_ds], [0.5, 0.5]).batch(BATCH_SIZE)"
      ],
      "execution_count": null,
      "outputs": []
    },
    {
      "cell_type": "markdown",
      "metadata": {
        "id": "0XiYfFSqAKN0",
        "colab_type": "text"
      },
      "source": [
        "#Model"
      ]
    },
    {
      "cell_type": "markdown",
      "metadata": {
        "id": "UulVae4KARoH",
        "colab_type": "text"
      },
      "source": [
        "##Architecture"
      ]
    },
    {
      "cell_type": "code",
      "metadata": {
        "id": "QePrt6mpgAfk",
        "colab_type": "code",
        "colab": {
          "base_uri": "https://localhost:8080/",
          "height": 969
        },
        "outputId": "d608072e-9566-4663-de2a-0909543a3281"
      },
      "source": [
        "IMAGE_SIZE = [224,224]\n",
        "\n",
        "pretrained_model = tf.keras.applications.VGG16(weights='imagenet', include_top=False ,input_shape=[*IMAGE_SIZE, 3])\n",
        "pretrained_model.trainable = False # tramsfer learning\n",
        "\n",
        "\n",
        "output = tf.keras.layers.Flatten()(pretrained_model.output)\n",
        "output = tf.keras.layers.Dense(units = 256, activation='relu',)(output) \n",
        "output = tf.keras.layers.BatchNormalization()(output)\n",
        "output = tf.keras.layers.Dropout(0.9)(output)\n",
        "output = tf.keras.layers.Dense(2 ,activation='softmax')(output)\n",
        "\n",
        "model_vgg16 = tf.keras.Model(pretrained_model.input, output)\n",
        "\n",
        "opt = tf.keras.optimizers.Adam(learning_rate=0.1)\n",
        "#model.compile(optimizer=opt, loss= tf.keras.losses.BinaryCrossentropy() , metrics=['accuracy'])\n",
        "model_vgg16.compile(#loss='sparse_categorical_crossentropy',\n",
        "              loss='categorical_crossentropy',\n",
        "              optimizer='adam',\n",
        "              metrics=['accuracy', tf.keras.metrics.AUC()])\n",
        "              #metrics=['accuracy', tf.keras.metrics.AUC()])\n",
        "model_vgg16.summary()"
      ],
      "execution_count": null,
      "outputs": [
        {
          "output_type": "stream",
          "text": [
            "Model: \"model\"\n",
            "_________________________________________________________________\n",
            "Layer (type)                 Output Shape              Param #   \n",
            "=================================================================\n",
            "input_1 (InputLayer)         [(None, 224, 224, 3)]     0         \n",
            "_________________________________________________________________\n",
            "block1_conv1 (Conv2D)        (None, 224, 224, 64)      1792      \n",
            "_________________________________________________________________\n",
            "block1_conv2 (Conv2D)        (None, 224, 224, 64)      36928     \n",
            "_________________________________________________________________\n",
            "block1_pool (MaxPooling2D)   (None, 112, 112, 64)      0         \n",
            "_________________________________________________________________\n",
            "block2_conv1 (Conv2D)        (None, 112, 112, 128)     73856     \n",
            "_________________________________________________________________\n",
            "block2_conv2 (Conv2D)        (None, 112, 112, 128)     147584    \n",
            "_________________________________________________________________\n",
            "block2_pool (MaxPooling2D)   (None, 56, 56, 128)       0         \n",
            "_________________________________________________________________\n",
            "block3_conv1 (Conv2D)        (None, 56, 56, 256)       295168    \n",
            "_________________________________________________________________\n",
            "block3_conv2 (Conv2D)        (None, 56, 56, 256)       590080    \n",
            "_________________________________________________________________\n",
            "block3_conv3 (Conv2D)        (None, 56, 56, 256)       590080    \n",
            "_________________________________________________________________\n",
            "block3_pool (MaxPooling2D)   (None, 28, 28, 256)       0         \n",
            "_________________________________________________________________\n",
            "block4_conv1 (Conv2D)        (None, 28, 28, 512)       1180160   \n",
            "_________________________________________________________________\n",
            "block4_conv2 (Conv2D)        (None, 28, 28, 512)       2359808   \n",
            "_________________________________________________________________\n",
            "block4_conv3 (Conv2D)        (None, 28, 28, 512)       2359808   \n",
            "_________________________________________________________________\n",
            "block4_pool (MaxPooling2D)   (None, 14, 14, 512)       0         \n",
            "_________________________________________________________________\n",
            "block5_conv1 (Conv2D)        (None, 14, 14, 512)       2359808   \n",
            "_________________________________________________________________\n",
            "block5_conv2 (Conv2D)        (None, 14, 14, 512)       2359808   \n",
            "_________________________________________________________________\n",
            "block5_conv3 (Conv2D)        (None, 14, 14, 512)       2359808   \n",
            "_________________________________________________________________\n",
            "block5_pool (MaxPooling2D)   (None, 7, 7, 512)         0         \n",
            "_________________________________________________________________\n",
            "flatten (Flatten)            (None, 25088)             0         \n",
            "_________________________________________________________________\n",
            "dense (Dense)                (None, 256)               6422784   \n",
            "_________________________________________________________________\n",
            "batch_normalization (BatchNo (None, 256)               1024      \n",
            "_________________________________________________________________\n",
            "dropout (Dropout)            (None, 256)               0         \n",
            "_________________________________________________________________\n",
            "dense_1 (Dense)              (None, 2)                 514       \n",
            "=================================================================\n",
            "Total params: 21,139,010\n",
            "Trainable params: 6,423,810\n",
            "Non-trainable params: 14,715,200\n",
            "_________________________________________________________________\n"
          ],
          "name": "stdout"
        }
      ]
    },
    {
      "cell_type": "markdown",
      "metadata": {
        "id": "ZdCE-KNZAZx9",
        "colab_type": "text"
      },
      "source": [
        "##Training"
      ]
    },
    {
      "cell_type": "code",
      "metadata": {
        "id": "e9UY-z4GhmrT",
        "colab_type": "code",
        "colab": {
          "base_uri": "https://localhost:8080/",
          "height": 1000
        },
        "outputId": "a9c951a4-d3dc-4801-9fdd-e93d29be01a0"
      },
      "source": [
        "history = model_vgg16.fit(train_dataset, epochs=100, class_weight=class_weight,validation_data=test_dataset)"
      ],
      "execution_count": null,
      "outputs": [
        {
          "output_type": "stream",
          "text": [
            "Epoch 1/100\n",
            "415/415 [==============================] - 101s 244ms/step - loss: 1.0703 - accuracy: 0.5897 - auc: 0.6115 - val_loss: 0.4208 - val_accuracy: 0.8236 - val_auc: 0.8999\n",
            "Epoch 2/100\n",
            "415/415 [==============================] - 96s 231ms/step - loss: 0.7265 - accuracy: 0.6708 - auc: 0.7133 - val_loss: 0.2717 - val_accuracy: 0.9345 - val_auc: 0.9797\n",
            "Epoch 3/100\n",
            "415/415 [==============================] - 96s 231ms/step - loss: 0.6174 - accuracy: 0.7058 - auc: 0.7527 - val_loss: 0.4077 - val_accuracy: 0.8560 - val_auc: 0.9254\n",
            "Epoch 4/100\n",
            "415/415 [==============================] - 95s 230ms/step - loss: 0.5826 - accuracy: 0.7289 - auc: 0.7746 - val_loss: 0.3583 - val_accuracy: 0.8826 - val_auc: 0.9483\n",
            "Epoch 5/100\n",
            "415/415 [==============================] - 95s 230ms/step - loss: 0.5826 - accuracy: 0.7269 - auc: 0.7748 - val_loss: 0.4288 - val_accuracy: 0.8284 - val_auc: 0.9030\n",
            "Epoch 6/100\n",
            "415/415 [==============================] - 95s 230ms/step - loss: 0.5485 - accuracy: 0.7468 - auc: 0.7996 - val_loss: 0.3430 - val_accuracy: 0.8913 - val_auc: 0.9539\n",
            "Epoch 7/100\n",
            "415/415 [==============================] - 95s 229ms/step - loss: 0.5230 - accuracy: 0.7557 - auc: 0.8109 - val_loss: 0.5500 - val_accuracy: 0.7302 - val_auc: 0.8007\n",
            "Epoch 8/100\n",
            "415/415 [==============================] - 95s 230ms/step - loss: 0.5298 - accuracy: 0.7573 - auc: 0.8123 - val_loss: 0.3475 - val_accuracy: 0.8698 - val_auc: 0.9378\n",
            "Epoch 9/100\n",
            "415/415 [==============================] - 95s 230ms/step - loss: 0.5386 - accuracy: 0.7549 - auc: 0.8092 - val_loss: 0.5151 - val_accuracy: 0.7561 - val_auc: 0.8288\n",
            "Epoch 10/100\n",
            "415/415 [==============================] - 95s 230ms/step - loss: 0.5190 - accuracy: 0.7669 - auc: 0.8282 - val_loss: 0.3794 - val_accuracy: 0.8503 - val_auc: 0.9227\n",
            "Epoch 11/100\n",
            "415/415 [==============================] - 95s 228ms/step - loss: 0.5129 - accuracy: 0.7604 - auc: 0.8185 - val_loss: 0.3206 - val_accuracy: 0.8879 - val_auc: 0.9513\n",
            "Epoch 12/100\n",
            "415/415 [==============================] - 95s 229ms/step - loss: 0.5069 - accuracy: 0.7666 - auc: 0.8266 - val_loss: 0.3717 - val_accuracy: 0.8476 - val_auc: 0.9228\n",
            "Epoch 13/100\n",
            "415/415 [==============================] - 95s 230ms/step - loss: 0.5192 - accuracy: 0.7649 - auc: 0.8264 - val_loss: 0.3781 - val_accuracy: 0.8495 - val_auc: 0.9201\n",
            "Epoch 14/100\n",
            "415/415 [==============================] - 95s 229ms/step - loss: 0.5002 - accuracy: 0.7660 - auc: 0.8273 - val_loss: 0.3916 - val_accuracy: 0.8352 - val_auc: 0.9124\n",
            "Epoch 15/100\n",
            "415/415 [==============================] - 95s 229ms/step - loss: 0.4618 - accuracy: 0.7809 - auc: 0.8446 - val_loss: 0.3003 - val_accuracy: 0.8885 - val_auc: 0.9526\n",
            "Epoch 16/100\n",
            "415/415 [==============================] - 95s 229ms/step - loss: 0.4699 - accuracy: 0.7963 - auc: 0.8635 - val_loss: 0.1523 - val_accuracy: 0.9605 - val_auc: 0.9886\n",
            "Epoch 17/100\n",
            "415/415 [==============================] - 95s 230ms/step - loss: 0.4987 - accuracy: 0.7792 - auc: 0.8443 - val_loss: 0.4242 - val_accuracy: 0.8083 - val_auc: 0.8899\n",
            "Epoch 18/100\n",
            "415/415 [==============================] - 95s 230ms/step - loss: 0.4691 - accuracy: 0.7752 - auc: 0.8435 - val_loss: 0.2797 - val_accuracy: 0.9025 - val_auc: 0.9609\n",
            "Epoch 19/100\n",
            "415/415 [==============================] - 95s 229ms/step - loss: 0.4706 - accuracy: 0.7974 - auc: 0.8618 - val_loss: 0.2146 - val_accuracy: 0.9313 - val_auc: 0.9781\n",
            "Epoch 20/100\n",
            "415/415 [==============================] - 95s 228ms/step - loss: 0.4463 - accuracy: 0.7992 - auc: 0.8654 - val_loss: 0.3254 - val_accuracy: 0.8699 - val_auc: 0.9395\n",
            "Epoch 21/100\n",
            "415/415 [==============================] - 95s 229ms/step - loss: 0.4497 - accuracy: 0.7996 - auc: 0.8670 - val_loss: 0.3222 - val_accuracy: 0.8738 - val_auc: 0.9407\n",
            "Epoch 22/100\n",
            "415/415 [==============================] - 95s 229ms/step - loss: 0.4641 - accuracy: 0.8009 - auc: 0.8685 - val_loss: 0.3532 - val_accuracy: 0.8532 - val_auc: 0.9275\n",
            "Epoch 23/100\n",
            "415/415 [==============================] - 95s 228ms/step - loss: 0.4548 - accuracy: 0.8007 - auc: 0.8693 - val_loss: 0.4005 - val_accuracy: 0.8240 - val_auc: 0.9017\n",
            "Epoch 24/100\n",
            "415/415 [==============================] - 95s 228ms/step - loss: 0.4565 - accuracy: 0.7986 - auc: 0.8681 - val_loss: 0.3430 - val_accuracy: 0.8596 - val_auc: 0.9316\n",
            "Epoch 25/100\n",
            "415/415 [==============================] - 95s 229ms/step - loss: 0.4580 - accuracy: 0.8051 - auc: 0.8710 - val_loss: 0.2859 - val_accuracy: 0.8950 - val_auc: 0.9567\n",
            "Epoch 26/100\n",
            "415/415 [==============================] - 95s 229ms/step - loss: 0.4376 - accuracy: 0.8031 - auc: 0.8718 - val_loss: 0.3145 - val_accuracy: 0.8776 - val_auc: 0.9431\n",
            "Epoch 27/100\n",
            "415/415 [==============================] - 95s 229ms/step - loss: 0.4155 - accuracy: 0.8109 - auc: 0.8810 - val_loss: 0.3206 - val_accuracy: 0.8699 - val_auc: 0.9399\n",
            "Epoch 28/100\n",
            "415/415 [==============================] - 95s 229ms/step - loss: 0.4260 - accuracy: 0.8212 - auc: 0.8925 - val_loss: 0.3425 - val_accuracy: 0.8634 - val_auc: 0.9318\n",
            "Epoch 29/100\n",
            "415/415 [==============================] - 95s 229ms/step - loss: 0.4197 - accuracy: 0.8253 - auc: 0.8943 - val_loss: 0.2704 - val_accuracy: 0.9008 - val_auc: 0.9600\n",
            "Epoch 30/100\n",
            "415/415 [==============================] - 95s 229ms/step - loss: 0.4030 - accuracy: 0.8150 - auc: 0.8868 - val_loss: 0.2764 - val_accuracy: 0.8942 - val_auc: 0.9564\n",
            "Epoch 31/100\n",
            "415/415 [==============================] - 95s 228ms/step - loss: 0.4149 - accuracy: 0.8184 - auc: 0.8886 - val_loss: 0.3713 - val_accuracy: 0.8381 - val_auc: 0.9163\n",
            "Epoch 32/100\n",
            "415/415 [==============================] - 95s 229ms/step - loss: 0.4028 - accuracy: 0.8268 - auc: 0.8962 - val_loss: 0.2255 - val_accuracy: 0.9206 - val_auc: 0.9719\n",
            "Epoch 33/100\n",
            "415/415 [==============================] - 95s 229ms/step - loss: 0.4197 - accuracy: 0.8253 - auc: 0.8945 - val_loss: 0.2984 - val_accuracy: 0.8803 - val_auc: 0.9479\n",
            "Epoch 34/100\n",
            "415/415 [==============================] - 95s 228ms/step - loss: 0.4089 - accuracy: 0.8222 - auc: 0.8931 - val_loss: 0.3054 - val_accuracy: 0.8782 - val_auc: 0.9449\n",
            "Epoch 35/100\n",
            "415/415 [==============================] - 95s 229ms/step - loss: 0.3927 - accuracy: 0.8342 - auc: 0.9027 - val_loss: 0.3199 - val_accuracy: 0.8735 - val_auc: 0.9403\n",
            "Epoch 36/100\n",
            "415/415 [==============================] - 95s 229ms/step - loss: 0.3730 - accuracy: 0.8425 - auc: 0.9095 - val_loss: 0.3471 - val_accuracy: 0.8545 - val_auc: 0.9280\n",
            "Epoch 37/100\n",
            "415/415 [==============================] - 95s 229ms/step - loss: 0.3835 - accuracy: 0.8373 - auc: 0.9085 - val_loss: 0.2575 - val_accuracy: 0.9037 - val_auc: 0.9609\n",
            "Epoch 38/100\n",
            "415/415 [==============================] - 95s 229ms/step - loss: 0.3803 - accuracy: 0.8447 - auc: 0.9148 - val_loss: 0.2830 - val_accuracy: 0.8909 - val_auc: 0.9534\n",
            "Epoch 39/100\n",
            "415/415 [==============================] - 95s 228ms/step - loss: 0.4124 - accuracy: 0.8280 - auc: 0.9028 - val_loss: 0.3014 - val_accuracy: 0.8806 - val_auc: 0.9468\n",
            "Epoch 40/100\n",
            "415/415 [==============================] - 95s 229ms/step - loss: 0.4013 - accuracy: 0.8343 - auc: 0.9075 - val_loss: 0.2856 - val_accuracy: 0.8892 - val_auc: 0.9523\n",
            "Epoch 41/100\n",
            "415/415 [==============================] - 94s 228ms/step - loss: 0.3668 - accuracy: 0.8408 - auc: 0.9109 - val_loss: 0.3271 - val_accuracy: 0.8654 - val_auc: 0.9369\n",
            "Epoch 42/100\n",
            "415/415 [==============================] - 95s 229ms/step - loss: 0.3722 - accuracy: 0.8378 - auc: 0.9107 - val_loss: 0.3675 - val_accuracy: 0.8433 - val_auc: 0.9199\n",
            "Epoch 43/100\n",
            "415/415 [==============================] - 95s 228ms/step - loss: 0.3742 - accuracy: 0.8419 - auc: 0.9143 - val_loss: 0.3096 - val_accuracy: 0.8759 - val_auc: 0.9443\n",
            "Epoch 44/100\n",
            "415/415 [==============================] - 95s 229ms/step - loss: 0.3654 - accuracy: 0.8337 - auc: 0.9074 - val_loss: 0.2845 - val_accuracy: 0.8883 - val_auc: 0.9522\n",
            "Epoch 45/100\n",
            "415/415 [==============================] - 95s 228ms/step - loss: 0.3608 - accuracy: 0.8456 - auc: 0.9168 - val_loss: 0.2705 - val_accuracy: 0.8944 - val_auc: 0.9570\n",
            "Epoch 46/100\n",
            "415/415 [==============================] - 95s 229ms/step - loss: 0.3655 - accuracy: 0.8502 - auc: 0.9200 - val_loss: 0.2289 - val_accuracy: 0.9170 - val_auc: 0.9690\n",
            "Epoch 47/100\n",
            "415/415 [==============================] - 95s 229ms/step - loss: 0.3771 - accuracy: 0.8446 - auc: 0.9170 - val_loss: 0.3277 - val_accuracy: 0.8651 - val_auc: 0.9367\n",
            "Epoch 48/100\n",
            "415/415 [==============================] - 95s 229ms/step - loss: 0.3529 - accuracy: 0.8462 - auc: 0.9182 - val_loss: 0.2270 - val_accuracy: 0.9184 - val_auc: 0.9695\n",
            "Epoch 49/100\n",
            "415/415 [==============================] - 95s 228ms/step - loss: 0.3578 - accuracy: 0.8461 - auc: 0.9177 - val_loss: 0.2803 - val_accuracy: 0.8912 - val_auc: 0.9537\n",
            "Epoch 50/100\n",
            "415/415 [==============================] - 95s 229ms/step - loss: 0.3506 - accuracy: 0.8509 - auc: 0.9211 - val_loss: 0.2880 - val_accuracy: 0.8864 - val_auc: 0.9515\n",
            "Epoch 51/100\n",
            "415/415 [==============================] - 95s 229ms/step - loss: 0.3495 - accuracy: 0.8552 - auc: 0.9262 - val_loss: 0.2192 - val_accuracy: 0.9209 - val_auc: 0.9714\n",
            "Epoch 52/100\n",
            "415/415 [==============================] - 95s 229ms/step - loss: 0.3667 - accuracy: 0.8420 - auc: 0.9145 - val_loss: 0.2376 - val_accuracy: 0.9144 - val_auc: 0.9667\n",
            "Epoch 53/100\n",
            "415/415 [==============================] - 95s 229ms/step - loss: 0.3348 - accuracy: 0.8563 - auc: 0.9276 - val_loss: 0.2702 - val_accuracy: 0.8953 - val_auc: 0.9572\n",
            "Epoch 54/100\n",
            "415/415 [==============================] - 95s 229ms/step - loss: 0.3744 - accuracy: 0.8453 - auc: 0.9205 - val_loss: 0.2693 - val_accuracy: 0.8975 - val_auc: 0.9575\n",
            "Epoch 55/100\n",
            "415/415 [==============================] - 95s 229ms/step - loss: 0.3435 - accuracy: 0.8486 - auc: 0.9225 - val_loss: 0.2448 - val_accuracy: 0.9097 - val_auc: 0.9646\n",
            "Epoch 56/100\n",
            "415/415 [==============================] - 95s 229ms/step - loss: 0.3576 - accuracy: 0.8546 - auc: 0.9266 - val_loss: 0.2599 - val_accuracy: 0.9033 - val_auc: 0.9599\n",
            "Epoch 57/100\n",
            "415/415 [==============================] - 95s 229ms/step - loss: 0.3348 - accuracy: 0.8547 - auc: 0.9270 - val_loss: 0.2879 - val_accuracy: 0.8853 - val_auc: 0.9514\n",
            "Epoch 58/100\n",
            "415/415 [==============================] - 95s 228ms/step - loss: 0.3274 - accuracy: 0.8578 - auc: 0.9279 - val_loss: 0.3968 - val_accuracy: 0.8308 - val_auc: 0.9096\n",
            "Epoch 59/100\n",
            "415/415 [==============================] - 95s 228ms/step - loss: 0.3492 - accuracy: 0.8563 - auc: 0.9291 - val_loss: 0.2472 - val_accuracy: 0.9090 - val_auc: 0.9638\n",
            "Epoch 60/100\n",
            "415/415 [==============================] - 95s 229ms/step - loss: 0.3415 - accuracy: 0.8535 - auc: 0.9253 - val_loss: 0.2542 - val_accuracy: 0.9046 - val_auc: 0.9622\n",
            "Epoch 61/100\n",
            "415/415 [==============================] - 95s 228ms/step - loss: 0.3292 - accuracy: 0.8587 - auc: 0.9306 - val_loss: 0.2511 - val_accuracy: 0.9076 - val_auc: 0.9627\n",
            "Epoch 62/100\n",
            "415/415 [==============================] - 95s 229ms/step - loss: 0.3256 - accuracy: 0.8594 - auc: 0.9320 - val_loss: 0.3391 - val_accuracy: 0.8592 - val_auc: 0.9340\n",
            "Epoch 63/100\n",
            "415/415 [==============================] - 95s 228ms/step - loss: 0.3518 - accuracy: 0.8586 - auc: 0.9311 - val_loss: 0.2591 - val_accuracy: 0.9018 - val_auc: 0.9605\n",
            "Epoch 64/100\n",
            "415/415 [==============================] - 95s 229ms/step - loss: 0.3133 - accuracy: 0.8518 - auc: 0.9275 - val_loss: 0.2947 - val_accuracy: 0.8850 - val_auc: 0.9498\n",
            "Epoch 65/100\n",
            "415/415 [==============================] - 95s 228ms/step - loss: 0.3185 - accuracy: 0.8608 - auc: 0.9325 - val_loss: 0.2843 - val_accuracy: 0.8907 - val_auc: 0.9536\n",
            "Epoch 66/100\n",
            "415/415 [==============================] - 94s 228ms/step - loss: 0.3097 - accuracy: 0.8688 - auc: 0.9393 - val_loss: 0.2458 - val_accuracy: 0.9093 - val_auc: 0.9645\n",
            "Epoch 67/100\n",
            "415/415 [==============================] - 94s 227ms/step - loss: 0.3391 - accuracy: 0.8665 - auc: 0.9372 - val_loss: 0.3060 - val_accuracy: 0.8779 - val_auc: 0.9463\n",
            "Epoch 68/100\n",
            "415/415 [==============================] - 94s 227ms/step - loss: 0.3149 - accuracy: 0.8640 - auc: 0.9351 - val_loss: 0.2362 - val_accuracy: 0.9158 - val_auc: 0.9671\n",
            "Epoch 69/100\n",
            "415/415 [==============================] - 94s 228ms/step - loss: 0.3120 - accuracy: 0.8656 - auc: 0.9370 - val_loss: 0.2721 - val_accuracy: 0.8980 - val_auc: 0.9576\n",
            "Epoch 70/100\n",
            "415/415 [==============================] - 95s 228ms/step - loss: 0.3184 - accuracy: 0.8637 - auc: 0.9372 - val_loss: 0.3005 - val_accuracy: 0.8814 - val_auc: 0.9492\n",
            "Epoch 71/100\n",
            "415/415 [==============================] - 95s 229ms/step - loss: 0.2997 - accuracy: 0.8660 - auc: 0.9358 - val_loss: 0.2591 - val_accuracy: 0.9052 - val_auc: 0.9616\n",
            "Epoch 72/100\n",
            "415/415 [==============================] - 95s 228ms/step - loss: 0.3473 - accuracy: 0.8589 - auc: 0.9325 - val_loss: 0.2785 - val_accuracy: 0.8944 - val_auc: 0.9553\n",
            "Epoch 73/100\n",
            "415/415 [==============================] - 95s 228ms/step - loss: 0.2972 - accuracy: 0.8639 - auc: 0.9350 - val_loss: 0.2488 - val_accuracy: 0.9097 - val_auc: 0.9640\n",
            "Epoch 74/100\n",
            "415/415 [==============================] - 95s 228ms/step - loss: 0.2751 - accuracy: 0.8755 - auc: 0.9461 - val_loss: 0.2561 - val_accuracy: 0.9079 - val_auc: 0.9626\n",
            "Epoch 75/100\n",
            "415/415 [==============================] - 95s 228ms/step - loss: 0.3023 - accuracy: 0.8694 - auc: 0.9415 - val_loss: 0.2358 - val_accuracy: 0.9179 - val_auc: 0.9678\n",
            "Epoch 76/100\n",
            "415/415 [==============================] - 94s 227ms/step - loss: 0.2760 - accuracy: 0.8823 - auc: 0.9492 - val_loss: 0.3025 - val_accuracy: 0.8829 - val_auc: 0.9494\n",
            "Epoch 77/100\n",
            "415/415 [==============================] - 95s 228ms/step - loss: 0.2966 - accuracy: 0.8727 - auc: 0.9440 - val_loss: 0.2517 - val_accuracy: 0.9090 - val_auc: 0.9637\n",
            "Epoch 78/100\n",
            "415/415 [==============================] - 95s 228ms/step - loss: 0.2792 - accuracy: 0.8755 - auc: 0.9456 - val_loss: 0.2293 - val_accuracy: 0.9227 - val_auc: 0.9699\n",
            "Epoch 79/100\n",
            "415/415 [==============================] - 95s 228ms/step - loss: 0.2909 - accuracy: 0.8749 - auc: 0.9456 - val_loss: 0.2199 - val_accuracy: 0.9292 - val_auc: 0.9721\n",
            "Epoch 80/100\n",
            "415/415 [==============================] - 94s 227ms/step - loss: 0.2798 - accuracy: 0.8786 - auc: 0.9477 - val_loss: 0.3244 - val_accuracy: 0.8749 - val_auc: 0.9438\n",
            "Epoch 81/100\n",
            "415/415 [==============================] - 95s 228ms/step - loss: 0.2910 - accuracy: 0.8832 - auc: 0.9501 - val_loss: 0.2510 - val_accuracy: 0.9110 - val_auc: 0.9647\n",
            "Epoch 82/100\n",
            "415/415 [==============================] - 95s 228ms/step - loss: 0.2693 - accuracy: 0.8823 - auc: 0.9506 - val_loss: 0.2703 - val_accuracy: 0.9024 - val_auc: 0.9599\n",
            "Epoch 83/100\n",
            "415/415 [==============================] - 95s 229ms/step - loss: 0.3030 - accuracy: 0.8757 - auc: 0.9453 - val_loss: 0.2487 - val_accuracy: 0.9123 - val_auc: 0.9653\n",
            "Epoch 84/100\n",
            "415/415 [==============================] - 95s 228ms/step - loss: 0.2800 - accuracy: 0.8751 - auc: 0.9450 - val_loss: 0.2844 - val_accuracy: 0.8960 - val_auc: 0.9562\n",
            "Epoch 85/100\n",
            "415/415 [==============================] - 95s 228ms/step - loss: 0.2768 - accuracy: 0.8818 - auc: 0.9495 - val_loss: 0.1838 - val_accuracy: 0.9446 - val_auc: 0.9799\n",
            "Epoch 86/100\n",
            "415/415 [==============================] - 95s 228ms/step - loss: 0.2689 - accuracy: 0.8830 - auc: 0.9504 - val_loss: 0.2460 - val_accuracy: 0.9168 - val_auc: 0.9666\n",
            "Epoch 87/100\n",
            "415/415 [==============================] - 95s 228ms/step - loss: 0.2994 - accuracy: 0.8814 - auc: 0.9497 - val_loss: 0.3201 - val_accuracy: 0.8793 - val_auc: 0.9455\n",
            "Epoch 88/100\n",
            "415/415 [==============================] - 95s 228ms/step - loss: 0.2815 - accuracy: 0.8763 - auc: 0.9456 - val_loss: 0.2745 - val_accuracy: 0.9007 - val_auc: 0.9595\n",
            "Epoch 89/100\n",
            "415/415 [==============================] - 95s 228ms/step - loss: 0.2886 - accuracy: 0.8823 - auc: 0.9494 - val_loss: 0.2229 - val_accuracy: 0.9274 - val_auc: 0.9715\n",
            "Epoch 90/100\n",
            "415/415 [==============================] - 95s 228ms/step - loss: 0.2846 - accuracy: 0.8786 - auc: 0.9474 - val_loss: 0.3417 - val_accuracy: 0.8678 - val_auc: 0.9381\n",
            "Epoch 91/100\n",
            "415/415 [==============================] - 94s 227ms/step - loss: 0.2910 - accuracy: 0.8737 - auc: 0.9431 - val_loss: 0.2727 - val_accuracy: 0.9022 - val_auc: 0.9604\n",
            "Epoch 92/100\n",
            "415/415 [==============================] - 94s 227ms/step - loss: 0.2726 - accuracy: 0.8826 - auc: 0.9500 - val_loss: 0.2914 - val_accuracy: 0.8936 - val_auc: 0.9545\n",
            "Epoch 93/100\n",
            "415/415 [==============================] - 95s 228ms/step - loss: 0.2716 - accuracy: 0.8922 - auc: 0.9562 - val_loss: 0.2850 - val_accuracy: 0.8969 - val_auc: 0.9560\n",
            "Epoch 94/100\n",
            "415/415 [==============================] - 94s 227ms/step - loss: 0.2846 - accuracy: 0.8793 - auc: 0.9486 - val_loss: 0.2994 - val_accuracy: 0.8907 - val_auc: 0.9523\n",
            "Epoch 95/100\n",
            "415/415 [==============================] - 94s 227ms/step - loss: 0.2541 - accuracy: 0.8828 - auc: 0.9518 - val_loss: 0.2833 - val_accuracy: 0.9001 - val_auc: 0.9576\n",
            "Epoch 96/100\n",
            "415/415 [==============================] - 95s 228ms/step - loss: 0.2904 - accuracy: 0.8781 - auc: 0.9489 - val_loss: 0.3385 - val_accuracy: 0.8702 - val_auc: 0.9402\n",
            "Epoch 97/100\n",
            "415/415 [==============================] - 95s 228ms/step - loss: 0.2752 - accuracy: 0.8809 - auc: 0.9515 - val_loss: 0.2640 - val_accuracy: 0.9063 - val_auc: 0.9623\n",
            "Epoch 98/100\n",
            "415/415 [==============================] - 94s 227ms/step - loss: 0.2767 - accuracy: 0.8799 - auc: 0.9499 - val_loss: 0.2790 - val_accuracy: 0.8981 - val_auc: 0.9582\n",
            "Epoch 99/100\n",
            "415/415 [==============================] - 95s 228ms/step - loss: 0.2704 - accuracy: 0.8870 - auc: 0.9534 - val_loss: 0.2225 - val_accuracy: 0.9303 - val_auc: 0.9724\n",
            "Epoch 100/100\n",
            "415/415 [==============================] - 95s 228ms/step - loss: 0.2595 - accuracy: 0.8876 - auc: 0.9536 - val_loss: 0.2209 - val_accuracy: 0.9309 - val_auc: 0.9731\n"
          ],
          "name": "stdout"
        }
      ]
    },
    {
      "cell_type": "code",
      "metadata": {
        "id": "m4jbOrQCAhrb",
        "colab_type": "code",
        "colab": {}
      },
      "source": [
        "model_vgg16.save('gdrive/My Drive/Thesis/models/model_aws.h5')"
      ],
      "execution_count": null,
      "outputs": []
    },
    {
      "cell_type": "markdown",
      "metadata": {
        "id": "5DPuGbXBAjQg",
        "colab_type": "text"
      },
      "source": [
        "##Evaluation"
      ]
    },
    {
      "cell_type": "markdown",
      "metadata": {
        "id": "s1GcLzVGAshz",
        "colab_type": "text"
      },
      "source": [
        "###Loss & Accuracy"
      ]
    },
    {
      "cell_type": "code",
      "metadata": {
        "id": "JDb94uGL1dA9",
        "colab_type": "code",
        "colab": {
          "base_uri": "https://localhost:8080/",
          "height": 573
        },
        "outputId": "d82d1bb0-a9e9-411b-d8cb-87b96cfe779a"
      },
      "source": [
        "plt.plot(history.history['accuracy'])\n",
        "plt.plot(history.history['val_accuracy'])\n",
        "plt.title('model accuracy')\n",
        "plt.ylabel('accuracy')\n",
        "plt.xlabel('epoch')\n",
        "plt.legend(['train', 'test'], loc='upper left')\n",
        "plt.savefig('gdrive/My Drive/Thesis/models/acc.png')\n",
        "plt.show()\n",
        "# summarize history for loss\n",
        "plt.plot(history.history['loss'])\n",
        "plt.plot(history.history['val_loss'])\n",
        "plt.title('model loss')\n",
        "plt.ylabel('loss')\n",
        "plt.xlabel('epoch')\n",
        "plt.legend(['train', 'test'], loc='upper left')\n",
        "plt.savefig('gdrive/My Drive/Thesis/models/loss.png')\n",
        "plt.show()"
      ],
      "execution_count": null,
      "outputs": [
        {
          "output_type": "display_data",
          "data": {
            "image/png": "[encoded data removed]",
            "text/plain": [
              "<Figure size 432x288 with 1 Axes>"
            ]
          },
          "metadata": {
            "tags": [],
            "needs_background": "light"
          }
        },
        {
          "output_type": "display_data",
          "data": {
            "image/png": "[encoded data removed]",
            "text/plain": [
              "<Figure size 432x288 with 1 Axes>"
            ]
          },
          "metadata": {
            "tags": [],
            "needs_background": "light"
          }
        }
      ]
    },
    {
      "cell_type": "markdown",
      "metadata": {
        "id": "QqMX2qnKAvwv",
        "colab_type": "text"
      },
      "source": [
        "###AUC metric"
      ]
    },
    {
      "cell_type": "code",
      "metadata": {
        "id": "IpK99iE12AFS",
        "colab_type": "code",
        "colab": {
          "base_uri": "https://localhost:8080/",
          "height": 295
        },
        "outputId": "86d0b053-a102-4085-902c-03cec23cc225"
      },
      "source": [
        "plt.plot(history.history['auc'])\n",
        "plt.plot(history.history['val_auc'])\n",
        "plt.title('AUC-score')\n",
        "plt.ylabel('AUC')\n",
        "plt.xlabel('epoch')\n",
        "plt.legend(['train', 'test'], loc='upper left')\n",
        "plt.savefig('gdrive/My Drive/Thesis/models/auc.png')\n",
        "plt.show()"
      ],
      "execution_count": null,
      "outputs": [
        {
          "output_type": "display_data",
          "data": {
            "image/png": "[encoded data removed]",
            "text/plain": [
              "<Figure size 432x288 with 1 Axes>"
            ]
          },
          "metadata": {
            "tags": [],
            "needs_background": "light"
          }
        }
      ]
    }
  ]
}